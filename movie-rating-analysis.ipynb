{
 "cells": [
  {
   "cell_type": "markdown",
   "id": "a4fe19f3",
   "metadata": {
    "_cell_guid": "b1076dfc-b9ad-4769-8c92-a6c4dae69d19",
    "_uuid": "8f2839f25d086af736a60e9eeb907d3b93b6e0e5",
    "papermill": {
     "duration": 0.004237,
     "end_time": "2024-02-16T11:24:04.329368",
     "exception": false,
     "start_time": "2024-02-16T11:24:04.325131",
     "status": "completed"
    },
    "tags": []
   },
   "source": [
    "# Movie Rating Analysis using Python\n",
    "We all watch movies for entertainment, some of us never rate while some viewers always rate every movie they watch.\n",
    "This type of viewer helps in rating movies for people who go through the movie reviews before watching any movie to make sure they are about to watch a good movie."
   ]
  },
  {
   "cell_type": "code",
   "execution_count": 1,
   "id": "16eb6543",
   "metadata": {
    "execution": {
     "iopub.execute_input": "2024-02-16T11:24:04.339401Z",
     "iopub.status.busy": "2024-02-16T11:24:04.338367Z",
     "iopub.status.idle": "2024-02-16T11:24:05.367845Z",
     "shell.execute_reply": "2024-02-16T11:24:05.366614Z"
    },
    "papermill": {
     "duration": 1.037621,
     "end_time": "2024-02-16T11:24:05.370811",
     "exception": false,
     "start_time": "2024-02-16T11:24:04.333190",
     "status": "completed"
    },
    "tags": []
   },
   "outputs": [],
   "source": [
    "#importing libraries.\n",
    "import numpy as np\n",
    "import pandas as pd\n"
   ]
  },
  {
   "cell_type": "code",
   "execution_count": 2,
   "id": "ff2ea0ab",
   "metadata": {
    "execution": {
     "iopub.execute_input": "2024-02-16T11:24:05.380170Z",
     "iopub.status.busy": "2024-02-16T11:24:05.379628Z",
     "iopub.status.idle": "2024-02-16T11:24:05.599168Z",
     "shell.execute_reply": "2024-02-16T11:24:05.596988Z"
    },
    "papermill": {
     "duration": 0.227225,
     "end_time": "2024-02-16T11:24:05.601875",
     "exception": false,
     "start_time": "2024-02-16T11:24:05.374650",
     "status": "completed"
    },
    "tags": []
   },
   "outputs": [
    {
     "name": "stderr",
     "output_type": "stream",
     "text": [
      "/tmp/ipykernel_18/3582629336.py:1: ParserWarning: Falling back to the 'python' engine because the 'c' engine does not support regex separators (separators > 1 char and different from '\\s+' are interpreted as regex); you can avoid this warning by specifying engine='python'.\n",
      "  movies = pd.read_csv('/kaggle/input/movie-dataset/movies.dat', delimiter='::')\n"
     ]
    },
    {
     "name": "stdout",
     "output_type": "stream",
     "text": [
      "   0000008      Edison Kinetoscopic Record of a Sneeze (1894)  \\\n",
      "0       10                La sortie des usines Lumière (1895)   \n",
      "1       12                      The Arrival of a Train (1896)   \n",
      "2       25  The Oxford and Cambridge University Boat Race ...   \n",
      "3       91                         Le manoir du diable (1896)   \n",
      "4      131                           Une nuit terrible (1896)   \n",
      "\n",
      "     Documentary|Short  \n",
      "0    Documentary|Short  \n",
      "1    Documentary|Short  \n",
      "2                  NaN  \n",
      "3         Short|Horror  \n",
      "4  Short|Comedy|Horror  \n"
     ]
    }
   ],
   "source": [
    "movies = pd.read_csv('/kaggle/input/movie-dataset/movies.dat', delimiter='::')\n",
    "print(movies.head())"
   ]
  },
  {
   "cell_type": "code",
   "execution_count": 3,
   "id": "37b58abf",
   "metadata": {
    "execution": {
     "iopub.execute_input": "2024-02-16T11:24:05.611756Z",
     "iopub.status.busy": "2024-02-16T11:24:05.611309Z",
     "iopub.status.idle": "2024-02-16T11:24:05.619420Z",
     "shell.execute_reply": "2024-02-16T11:24:05.618319Z"
    },
    "papermill": {
     "duration": 0.016168,
     "end_time": "2024-02-16T11:24:05.622204",
     "exception": false,
     "start_time": "2024-02-16T11:24:05.606036",
     "status": "completed"
    },
    "tags": []
   },
   "outputs": [
    {
     "name": "stdout",
     "output_type": "stream",
     "text": [
      "    ID                                              Title                Genre\n",
      "0   10                La sortie des usines Lumière (1895)    Documentary|Short\n",
      "1   12                      The Arrival of a Train (1896)    Documentary|Short\n",
      "2   25  The Oxford and Cambridge University Boat Race ...                  NaN\n",
      "3   91                         Le manoir du diable (1896)         Short|Horror\n",
      "4  131                           Une nuit terrible (1896)  Short|Comedy|Horror\n"
     ]
    }
   ],
   "source": [
    "#define columns\n",
    "movies.columns =[\"ID\", \"Title\", \"Genre\"]\n",
    "print(movies.head())"
   ]
  },
  {
   "cell_type": "code",
   "execution_count": 4,
   "id": "56200936",
   "metadata": {
    "execution": {
     "iopub.execute_input": "2024-02-16T11:24:05.632247Z",
     "iopub.status.busy": "2024-02-16T11:24:05.631856Z",
     "iopub.status.idle": "2024-02-16T11:24:13.960906Z",
     "shell.execute_reply": "2024-02-16T11:24:13.959666Z"
    },
    "papermill": {
     "duration": 8.337594,
     "end_time": "2024-02-16T11:24:13.963951",
     "exception": false,
     "start_time": "2024-02-16T11:24:05.626357",
     "status": "completed"
    },
    "tags": []
   },
   "outputs": [
    {
     "name": "stderr",
     "output_type": "stream",
     "text": [
      "/tmp/ipykernel_18/2484675338.py:2: ParserWarning: Falling back to the 'python' engine because the 'c' engine does not support regex separators (separators > 1 char and different from '\\s+' are interpreted as regex); you can avoid this warning by specifying engine='python'.\n",
      "  ratings = pd.read_csv('/kaggle/input/movie-dataset/ratings.dat', delimiter ='::')\n"
     ]
    },
    {
     "name": "stdout",
     "output_type": "stream",
     "text": [
      "   1  0114508  8  1381006850\n",
      "0  2   499549  9  1376753198\n",
      "1  2  1305591  8  1376742507\n",
      "2  2  1428538  1  1371307089\n",
      "3  3    75314  1  1595468524\n",
      "4  3   102926  9  1590148016\n"
     ]
    }
   ],
   "source": [
    "#importing the ratings\n",
    "ratings = pd.read_csv('/kaggle/input/movie-dataset/ratings.dat', delimiter ='::')\n",
    "print(ratings.head())"
   ]
  },
  {
   "cell_type": "code",
   "execution_count": 5,
   "id": "614dad85",
   "metadata": {
    "execution": {
     "iopub.execute_input": "2024-02-16T11:24:13.974264Z",
     "iopub.status.busy": "2024-02-16T11:24:13.973873Z",
     "iopub.status.idle": "2024-02-16T11:24:13.982179Z",
     "shell.execute_reply": "2024-02-16T11:24:13.980946Z"
    },
    "papermill": {
     "duration": 0.016711,
     "end_time": "2024-02-16T11:24:13.985079",
     "exception": false,
     "start_time": "2024-02-16T11:24:13.968368",
     "status": "completed"
    },
    "tags": []
   },
   "outputs": [
    {
     "name": "stdout",
     "output_type": "stream",
     "text": [
      "   User       ID  Ratings   Timestamp\n",
      "0     2   499549        9  1376753198\n",
      "1     2  1305591        8  1376742507\n",
      "2     2  1428538        1  1371307089\n",
      "3     3    75314        1  1595468524\n",
      "4     3   102926        9  1590148016\n"
     ]
    }
   ],
   "source": [
    "#define columns\n",
    "ratings.columns=[\"User\", \"ID\", \"Ratings\", \"Timestamp\"]\n",
    "print(ratings.head())"
   ]
  },
  {
   "cell_type": "code",
   "execution_count": 6,
   "id": "c294a5d2",
   "metadata": {
    "execution": {
     "iopub.execute_input": "2024-02-16T11:24:13.996142Z",
     "iopub.status.busy": "2024-02-16T11:24:13.995768Z",
     "iopub.status.idle": "2024-02-16T11:24:14.252085Z",
     "shell.execute_reply": "2024-02-16T11:24:14.250888Z"
    },
    "papermill": {
     "duration": 0.264934,
     "end_time": "2024-02-16T11:24:14.254522",
     "exception": false,
     "start_time": "2024-02-16T11:24:13.989588",
     "status": "completed"
    },
    "tags": []
   },
   "outputs": [
    {
     "name": "stdout",
     "output_type": "stream",
     "text": [
      "   ID                                              Title              Genre  \\\n",
      "0  10                La sortie des usines Lumière (1895)  Documentary|Short   \n",
      "1  12                      The Arrival of a Train (1896)  Documentary|Short   \n",
      "2  25  The Oxford and Cambridge University Boat Race ...                NaN   \n",
      "3  91                         Le manoir du diable (1896)       Short|Horror   \n",
      "4  91                         Le manoir du diable (1896)       Short|Horror   \n",
      "\n",
      "    User  Ratings   Timestamp  \n",
      "0  70577       10  1412878553  \n",
      "1  69535       10  1439248579  \n",
      "2  37628        8  1488189899  \n",
      "3   5814        6  1385233195  \n",
      "4  37239        5  1532347349  \n"
     ]
    }
   ],
   "source": [
    "#merging the two datasets\n",
    "data = pd.merge(movies, ratings, on=[\"ID\",\"ID\"])\n",
    "print(data.head())"
   ]
  },
  {
   "cell_type": "code",
   "execution_count": 7,
   "id": "dfa8fc2c",
   "metadata": {
    "execution": {
     "iopub.execute_input": "2024-02-16T11:24:14.265370Z",
     "iopub.status.busy": "2024-02-16T11:24:14.264839Z",
     "iopub.status.idle": "2024-02-16T11:24:16.943014Z",
     "shell.execute_reply": "2024-02-16T11:24:16.942162Z"
    },
    "papermill": {
     "duration": 2.686164,
     "end_time": "2024-02-16T11:24:16.945149",
     "exception": false,
     "start_time": "2024-02-16T11:24:14.258985",
     "status": "completed"
    },
    "tags": []
   },
   "outputs": [
    {
     "data": {
      "text/html": [
       "        <script type=\"text/javascript\">\n",
       "        window.PlotlyConfig = {MathJaxConfig: 'local'};\n",
       "        if (window.MathJax && window.MathJax.Hub && window.MathJax.Hub.Config) {window.MathJax.Hub.Config({SVG: {font: \"STIX-Web\"}});}\n",
       "        if (typeof require !== 'undefined') {\n",
       "        require.undef(\"plotly\");\n",
       "        requirejs.config({\n",
       "            paths: {\n",
       "                'plotly': ['https://cdn.plot.ly/plotly-2.27.0.min']\n",
       "            }\n",
       "        });\n",
       "        require(['plotly'], function(Plotly) {\n",
       "            window._Plotly = Plotly;\n",
       "        });\n",
       "        }\n",
       "        </script>\n",
       "        "
      ]
     },
     "metadata": {},
     "output_type": "display_data"
    },
    {
     "data": {
      "text/html": [
       "<div>                            <div id=\"3fafa3d9-11d1-438a-bd95-77c72c2df762\" class=\"plotly-graph-div\" style=\"height:525px; width:100%;\"></div>            <script type=\"text/javascript\">                require([\"plotly\"], function(Plotly) {                    window.PLOTLYENV=window.PLOTLYENV || {};                                    if (document.getElementById(\"3fafa3d9-11d1-438a-bd95-77c72c2df762\")) {                    Plotly.newPlot(                        \"3fafa3d9-11d1-438a-bd95-77c72c2df762\",                        [{\"domain\":{\"x\":[0.0,1.0],\"y\":[0.0,1.0]},\"hovertemplate\":\"label=%{label}\\u003cbr\\u003evalue=%{value}\\u003cextra\\u003e\\u003c\\u002fextra\\u003e\",\"labels\":[8,7,9,6,10,5,4,3,1,2,0],\"legendgroup\":\"\",\"name\":\"\",\"showlegend\":true,\"values\":[219311,203476,128749,118323,107284,68458,27779,15258,10663,9053,278],\"type\":\"pie\"}],                        {\"template\":{\"data\":{\"histogram2dcontour\":[{\"type\":\"histogram2dcontour\",\"colorbar\":{\"outlinewidth\":0,\"ticks\":\"\"},\"colorscale\":[[0.0,\"#0d0887\"],[0.1111111111111111,\"#46039f\"],[0.2222222222222222,\"#7201a8\"],[0.3333333333333333,\"#9c179e\"],[0.4444444444444444,\"#bd3786\"],[0.5555555555555556,\"#d8576b\"],[0.6666666666666666,\"#ed7953\"],[0.7777777777777778,\"#fb9f3a\"],[0.8888888888888888,\"#fdca26\"],[1.0,\"#f0f921\"]]}],\"choropleth\":[{\"type\":\"choropleth\",\"colorbar\":{\"outlinewidth\":0,\"ticks\":\"\"}}],\"histogram2d\":[{\"type\":\"histogram2d\",\"colorbar\":{\"outlinewidth\":0,\"ticks\":\"\"},\"colorscale\":[[0.0,\"#0d0887\"],[0.1111111111111111,\"#46039f\"],[0.2222222222222222,\"#7201a8\"],[0.3333333333333333,\"#9c179e\"],[0.4444444444444444,\"#bd3786\"],[0.5555555555555556,\"#d8576b\"],[0.6666666666666666,\"#ed7953\"],[0.7777777777777778,\"#fb9f3a\"],[0.8888888888888888,\"#fdca26\"],[1.0,\"#f0f921\"]]}],\"heatmap\":[{\"type\":\"heatmap\",\"colorbar\":{\"outlinewidth\":0,\"ticks\":\"\"},\"colorscale\":[[0.0,\"#0d0887\"],[0.1111111111111111,\"#46039f\"],[0.2222222222222222,\"#7201a8\"],[0.3333333333333333,\"#9c179e\"],[0.4444444444444444,\"#bd3786\"],[0.5555555555555556,\"#d8576b\"],[0.6666666666666666,\"#ed7953\"],[0.7777777777777778,\"#fb9f3a\"],[0.8888888888888888,\"#fdca26\"],[1.0,\"#f0f921\"]]}],\"heatmapgl\":[{\"type\":\"heatmapgl\",\"colorbar\":{\"outlinewidth\":0,\"ticks\":\"\"},\"colorscale\":[[0.0,\"#0d0887\"],[0.1111111111111111,\"#46039f\"],[0.2222222222222222,\"#7201a8\"],[0.3333333333333333,\"#9c179e\"],[0.4444444444444444,\"#bd3786\"],[0.5555555555555556,\"#d8576b\"],[0.6666666666666666,\"#ed7953\"],[0.7777777777777778,\"#fb9f3a\"],[0.8888888888888888,\"#fdca26\"],[1.0,\"#f0f921\"]]}],\"contourcarpet\":[{\"type\":\"contourcarpet\",\"colorbar\":{\"outlinewidth\":0,\"ticks\":\"\"}}],\"contour\":[{\"type\":\"contour\",\"colorbar\":{\"outlinewidth\":0,\"ticks\":\"\"},\"colorscale\":[[0.0,\"#0d0887\"],[0.1111111111111111,\"#46039f\"],[0.2222222222222222,\"#7201a8\"],[0.3333333333333333,\"#9c179e\"],[0.4444444444444444,\"#bd3786\"],[0.5555555555555556,\"#d8576b\"],[0.6666666666666666,\"#ed7953\"],[0.7777777777777778,\"#fb9f3a\"],[0.8888888888888888,\"#fdca26\"],[1.0,\"#f0f921\"]]}],\"surface\":[{\"type\":\"surface\",\"colorbar\":{\"outlinewidth\":0,\"ticks\":\"\"},\"colorscale\":[[0.0,\"#0d0887\"],[0.1111111111111111,\"#46039f\"],[0.2222222222222222,\"#7201a8\"],[0.3333333333333333,\"#9c179e\"],[0.4444444444444444,\"#bd3786\"],[0.5555555555555556,\"#d8576b\"],[0.6666666666666666,\"#ed7953\"],[0.7777777777777778,\"#fb9f3a\"],[0.8888888888888888,\"#fdca26\"],[1.0,\"#f0f921\"]]}],\"mesh3d\":[{\"type\":\"mesh3d\",\"colorbar\":{\"outlinewidth\":0,\"ticks\":\"\"}}],\"scatter\":[{\"fillpattern\":{\"fillmode\":\"overlay\",\"size\":10,\"solidity\":0.2},\"type\":\"scatter\"}],\"parcoords\":[{\"type\":\"parcoords\",\"line\":{\"colorbar\":{\"outlinewidth\":0,\"ticks\":\"\"}}}],\"scatterpolargl\":[{\"type\":\"scatterpolargl\",\"marker\":{\"colorbar\":{\"outlinewidth\":0,\"ticks\":\"\"}}}],\"bar\":[{\"error_x\":{\"color\":\"#2a3f5f\"},\"error_y\":{\"color\":\"#2a3f5f\"},\"marker\":{\"line\":{\"color\":\"#E5ECF6\",\"width\":0.5},\"pattern\":{\"fillmode\":\"overlay\",\"size\":10,\"solidity\":0.2}},\"type\":\"bar\"}],\"scattergeo\":[{\"type\":\"scattergeo\",\"marker\":{\"colorbar\":{\"outlinewidth\":0,\"ticks\":\"\"}}}],\"scatterpolar\":[{\"type\":\"scatterpolar\",\"marker\":{\"colorbar\":{\"outlinewidth\":0,\"ticks\":\"\"}}}],\"histogram\":[{\"marker\":{\"pattern\":{\"fillmode\":\"overlay\",\"size\":10,\"solidity\":0.2}},\"type\":\"histogram\"}],\"scattergl\":[{\"type\":\"scattergl\",\"marker\":{\"colorbar\":{\"outlinewidth\":0,\"ticks\":\"\"}}}],\"scatter3d\":[{\"type\":\"scatter3d\",\"line\":{\"colorbar\":{\"outlinewidth\":0,\"ticks\":\"\"}},\"marker\":{\"colorbar\":{\"outlinewidth\":0,\"ticks\":\"\"}}}],\"scattermapbox\":[{\"type\":\"scattermapbox\",\"marker\":{\"colorbar\":{\"outlinewidth\":0,\"ticks\":\"\"}}}],\"scatterternary\":[{\"type\":\"scatterternary\",\"marker\":{\"colorbar\":{\"outlinewidth\":0,\"ticks\":\"\"}}}],\"scattercarpet\":[{\"type\":\"scattercarpet\",\"marker\":{\"colorbar\":{\"outlinewidth\":0,\"ticks\":\"\"}}}],\"carpet\":[{\"aaxis\":{\"endlinecolor\":\"#2a3f5f\",\"gridcolor\":\"white\",\"linecolor\":\"white\",\"minorgridcolor\":\"white\",\"startlinecolor\":\"#2a3f5f\"},\"baxis\":{\"endlinecolor\":\"#2a3f5f\",\"gridcolor\":\"white\",\"linecolor\":\"white\",\"minorgridcolor\":\"white\",\"startlinecolor\":\"#2a3f5f\"},\"type\":\"carpet\"}],\"table\":[{\"cells\":{\"fill\":{\"color\":\"#EBF0F8\"},\"line\":{\"color\":\"white\"}},\"header\":{\"fill\":{\"color\":\"#C8D4E3\"},\"line\":{\"color\":\"white\"}},\"type\":\"table\"}],\"barpolar\":[{\"marker\":{\"line\":{\"color\":\"#E5ECF6\",\"width\":0.5},\"pattern\":{\"fillmode\":\"overlay\",\"size\":10,\"solidity\":0.2}},\"type\":\"barpolar\"}],\"pie\":[{\"automargin\":true,\"type\":\"pie\"}]},\"layout\":{\"autotypenumbers\":\"strict\",\"colorway\":[\"#636efa\",\"#EF553B\",\"#00cc96\",\"#ab63fa\",\"#FFA15A\",\"#19d3f3\",\"#FF6692\",\"#B6E880\",\"#FF97FF\",\"#FECB52\"],\"font\":{\"color\":\"#2a3f5f\"},\"hovermode\":\"closest\",\"hoverlabel\":{\"align\":\"left\"},\"paper_bgcolor\":\"white\",\"plot_bgcolor\":\"#E5ECF6\",\"polar\":{\"bgcolor\":\"#E5ECF6\",\"angularaxis\":{\"gridcolor\":\"white\",\"linecolor\":\"white\",\"ticks\":\"\"},\"radialaxis\":{\"gridcolor\":\"white\",\"linecolor\":\"white\",\"ticks\":\"\"}},\"ternary\":{\"bgcolor\":\"#E5ECF6\",\"aaxis\":{\"gridcolor\":\"white\",\"linecolor\":\"white\",\"ticks\":\"\"},\"baxis\":{\"gridcolor\":\"white\",\"linecolor\":\"white\",\"ticks\":\"\"},\"caxis\":{\"gridcolor\":\"white\",\"linecolor\":\"white\",\"ticks\":\"\"}},\"coloraxis\":{\"colorbar\":{\"outlinewidth\":0,\"ticks\":\"\"}},\"colorscale\":{\"sequential\":[[0.0,\"#0d0887\"],[0.1111111111111111,\"#46039f\"],[0.2222222222222222,\"#7201a8\"],[0.3333333333333333,\"#9c179e\"],[0.4444444444444444,\"#bd3786\"],[0.5555555555555556,\"#d8576b\"],[0.6666666666666666,\"#ed7953\"],[0.7777777777777778,\"#fb9f3a\"],[0.8888888888888888,\"#fdca26\"],[1.0,\"#f0f921\"]],\"sequentialminus\":[[0.0,\"#0d0887\"],[0.1111111111111111,\"#46039f\"],[0.2222222222222222,\"#7201a8\"],[0.3333333333333333,\"#9c179e\"],[0.4444444444444444,\"#bd3786\"],[0.5555555555555556,\"#d8576b\"],[0.6666666666666666,\"#ed7953\"],[0.7777777777777778,\"#fb9f3a\"],[0.8888888888888888,\"#fdca26\"],[1.0,\"#f0f921\"]],\"diverging\":[[0,\"#8e0152\"],[0.1,\"#c51b7d\"],[0.2,\"#de77ae\"],[0.3,\"#f1b6da\"],[0.4,\"#fde0ef\"],[0.5,\"#f7f7f7\"],[0.6,\"#e6f5d0\"],[0.7,\"#b8e186\"],[0.8,\"#7fbc41\"],[0.9,\"#4d9221\"],[1,\"#276419\"]]},\"xaxis\":{\"gridcolor\":\"white\",\"linecolor\":\"white\",\"ticks\":\"\",\"title\":{\"standoff\":15},\"zerolinecolor\":\"white\",\"automargin\":true,\"zerolinewidth\":2},\"yaxis\":{\"gridcolor\":\"white\",\"linecolor\":\"white\",\"ticks\":\"\",\"title\":{\"standoff\":15},\"zerolinecolor\":\"white\",\"automargin\":true,\"zerolinewidth\":2},\"scene\":{\"xaxis\":{\"backgroundcolor\":\"#E5ECF6\",\"gridcolor\":\"white\",\"linecolor\":\"white\",\"showbackground\":true,\"ticks\":\"\",\"zerolinecolor\":\"white\",\"gridwidth\":2},\"yaxis\":{\"backgroundcolor\":\"#E5ECF6\",\"gridcolor\":\"white\",\"linecolor\":\"white\",\"showbackground\":true,\"ticks\":\"\",\"zerolinecolor\":\"white\",\"gridwidth\":2},\"zaxis\":{\"backgroundcolor\":\"#E5ECF6\",\"gridcolor\":\"white\",\"linecolor\":\"white\",\"showbackground\":true,\"ticks\":\"\",\"zerolinecolor\":\"white\",\"gridwidth\":2}},\"shapedefaults\":{\"line\":{\"color\":\"#2a3f5f\"}},\"annotationdefaults\":{\"arrowcolor\":\"#2a3f5f\",\"arrowhead\":0,\"arrowwidth\":1},\"geo\":{\"bgcolor\":\"white\",\"landcolor\":\"#E5ECF6\",\"subunitcolor\":\"white\",\"showland\":true,\"showlakes\":true,\"lakecolor\":\"white\"},\"title\":{\"x\":0.05},\"mapbox\":{\"style\":\"light\"}}},\"legend\":{\"tracegroupgap\":0},\"margin\":{\"t\":60}},                        {\"responsive\": true}                    ).then(function(){\n",
       "                            \n",
       "var gd = document.getElementById('3fafa3d9-11d1-438a-bd95-77c72c2df762');\n",
       "var x = new MutationObserver(function (mutations, observer) {{\n",
       "        var display = window.getComputedStyle(gd).display;\n",
       "        if (!display || display === 'none') {{\n",
       "            console.log([gd, 'removed!']);\n",
       "            Plotly.purge(gd);\n",
       "            observer.disconnect();\n",
       "        }}\n",
       "}});\n",
       "\n",
       "// Listen for the removal of the full notebook cells\n",
       "var notebookContainer = gd.closest('#notebook-container');\n",
       "if (notebookContainer) {{\n",
       "    x.observe(notebookContainer, {childList: true});\n",
       "}}\n",
       "\n",
       "// Listen for the clearing of the current output cell\n",
       "var outputEl = gd.closest('.output');\n",
       "if (outputEl) {{\n",
       "    x.observe(outputEl, {childList: true});\n",
       "}}\n",
       "\n",
       "                        })                };                });            </script>        </div>"
      ]
     },
     "metadata": {},
     "output_type": "display_data"
    }
   ],
   "source": [
    "ratings = data[\"Ratings\"].value_counts()\n",
    "numbers = ratings.index\n",
    "quantity = ratings.values\n",
    "\n",
    "import plotly.express as px\n",
    "fig = px.pie(data, values=quantity, names=numbers)\n",
    "fig.show()"
   ]
  }
 ],
 "metadata": {
  "kaggle": {
   "accelerator": "none",
   "dataSources": [
    {
     "datasetId": 4450211,
     "sourceId": 7636556,
     "sourceType": "datasetVersion"
    }
   ],
   "dockerImageVersionId": 30646,
   "isGpuEnabled": false,
   "isInternetEnabled": true,
   "language": "python",
   "sourceType": "notebook"
  },
  "kernelspec": {
   "display_name": "Python 3",
   "language": "python",
   "name": "python3"
  },
  "language_info": {
   "codemirror_mode": {
    "name": "ipython",
    "version": 3
   },
   "file_extension": ".py",
   "mimetype": "text/x-python",
   "name": "python",
   "nbconvert_exporter": "python",
   "pygments_lexer": "ipython3",
   "version": "3.10.13"
  },
  "papermill": {
   "default_parameters": {},
   "duration": 16.524805,
   "end_time": "2024-02-16T11:24:17.571460",
   "environment_variables": {},
   "exception": null,
   "input_path": "__notebook__.ipynb",
   "output_path": "__notebook__.ipynb",
   "parameters": {},
   "start_time": "2024-02-16T11:24:01.046655",
   "version": "2.5.0"
  }
 },
 "nbformat": 4,
 "nbformat_minor": 5
}
