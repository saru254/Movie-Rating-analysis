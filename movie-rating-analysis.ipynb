{
 "cells": [
  {
   "cell_type": "markdown",
   "id": "c1a74a0e",
   "metadata": {
    "_cell_guid": "b1076dfc-b9ad-4769-8c92-a6c4dae69d19",
    "_uuid": "8f2839f25d086af736a60e9eeb907d3b93b6e0e5",
    "papermill": {
     "duration": 0.002589,
     "end_time": "2024-02-16T11:08:33.133311",
     "exception": false,
     "start_time": "2024-02-16T11:08:33.130722",
     "status": "completed"
    },
    "tags": []
   },
   "source": [
    "# Movie Rating Analysis using Python\n",
    "We all watch movies for entertainment, some of us never rate while some viewers always rate every movie they watch.\n",
    "This type of viewer helps in rating movies for people who go through the movie reviews before watching any movie to make sure they are about to watch a good movie."
   ]
  },
  {
   "cell_type": "code",
   "execution_count": 1,
   "id": "03cf0d38",
   "metadata": {
    "execution": {
     "iopub.execute_input": "2024-02-16T11:08:33.140714Z",
     "iopub.status.busy": "2024-02-16T11:08:33.139941Z",
     "iopub.status.idle": "2024-02-16T11:08:34.229735Z",
     "shell.execute_reply": "2024-02-16T11:08:34.228295Z"
    },
    "papermill": {
     "duration": 1.098068,
     "end_time": "2024-02-16T11:08:34.233692",
     "exception": false,
     "start_time": "2024-02-16T11:08:33.135624",
     "status": "completed"
    },
    "tags": []
   },
   "outputs": [],
   "source": [
    "#importing libraries.\n",
    "import numpy as np\n",
    "import pandas as pd\n"
   ]
  }
 ],
 "metadata": {
  "kaggle": {
   "accelerator": "none",
   "dataSources": [
    {
     "datasetId": 4450211,
     "sourceId": 7636556,
     "sourceType": "datasetVersion"
    }
   ],
   "isGpuEnabled": false,
   "isInternetEnabled": true,
   "language": "python",
   "sourceType": "notebook"
  },
  "kernelspec": {
   "display_name": "Python 3",
   "language": "python",
   "name": "python3"
  },
  "language_info": {
   "codemirror_mode": {
    "name": "ipython",
    "version": 3
   },
   "file_extension": ".py",
   "mimetype": "text/x-python",
   "name": "python",
   "nbconvert_exporter": "python",
   "pygments_lexer": "ipython3",
   "version": "3.10.13"
  },
  "papermill": {
   "default_parameters": {},
   "duration": 4.929861,
   "end_time": "2024-02-16T11:08:34.759592",
   "environment_variables": {},
   "exception": null,
   "input_path": "__notebook__.ipynb",
   "output_path": "__notebook__.ipynb",
   "parameters": {},
   "start_time": "2024-02-16T11:08:29.829731",
   "version": "2.5.0"
  }
 },
 "nbformat": 4,
 "nbformat_minor": 5
}
