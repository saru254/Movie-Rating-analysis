{
 "cells": [
  {
   "cell_type": "markdown",
   "id": "e1a271d5",
   "metadata": {
    "_cell_guid": "b1076dfc-b9ad-4769-8c92-a6c4dae69d19",
    "_uuid": "8f2839f25d086af736a60e9eeb907d3b93b6e0e5",
    "papermill": {
     "duration": 0.002879,
     "end_time": "2024-02-16T11:19:10.049345",
     "exception": false,
     "start_time": "2024-02-16T11:19:10.046466",
     "status": "completed"
    },
    "tags": []
   },
   "source": [
    "# Movie Rating Analysis using Python\n",
    "We all watch movies for entertainment, some of us never rate while some viewers always rate every movie they watch.\n",
    "This type of viewer helps in rating movies for people who go through the movie reviews before watching any movie to make sure they are about to watch a good movie."
   ]
  },
  {
   "cell_type": "code",
   "execution_count": 1,
   "id": "482c8115",
   "metadata": {
    "execution": {
     "iopub.execute_input": "2024-02-16T11:19:10.056450Z",
     "iopub.status.busy": "2024-02-16T11:19:10.055984Z",
     "iopub.status.idle": "2024-02-16T11:19:11.187550Z",
     "shell.execute_reply": "2024-02-16T11:19:11.186634Z"
    },
    "papermill": {
     "duration": 1.138119,
     "end_time": "2024-02-16T11:19:11.190131",
     "exception": false,
     "start_time": "2024-02-16T11:19:10.052012",
     "status": "completed"
    },
    "tags": []
   },
   "outputs": [],
   "source": [
    "#importing libraries.\n",
    "import numpy as np\n",
    "import pandas as pd\n"
   ]
  },
  {
   "cell_type": "code",
   "execution_count": 2,
   "id": "305c20a2",
   "metadata": {
    "execution": {
     "iopub.execute_input": "2024-02-16T11:19:11.197048Z",
     "iopub.status.busy": "2024-02-16T11:19:11.196464Z",
     "iopub.status.idle": "2024-02-16T11:19:11.377664Z",
     "shell.execute_reply": "2024-02-16T11:19:11.376249Z"
    },
    "papermill": {
     "duration": 0.187387,
     "end_time": "2024-02-16T11:19:11.380036",
     "exception": false,
     "start_time": "2024-02-16T11:19:11.192649",
     "status": "completed"
    },
    "tags": []
   },
   "outputs": [
    {
     "name": "stdout",
     "output_type": "stream",
     "text": [
      "   0000008      Edison Kinetoscopic Record of a Sneeze (1894)  \\\n",
      "0       10                La sortie des usines Lumière (1895)   \n",
      "1       12                      The Arrival of a Train (1896)   \n",
      "2       25  The Oxford and Cambridge University Boat Race ...   \n",
      "3       91                         Le manoir du diable (1896)   \n",
      "4      131                           Une nuit terrible (1896)   \n",
      "\n",
      "     Documentary|Short  \n",
      "0    Documentary|Short  \n",
      "1    Documentary|Short  \n",
      "2                  NaN  \n",
      "3         Short|Horror  \n",
      "4  Short|Comedy|Horror  \n"
     ]
    },
    {
     "name": "stderr",
     "output_type": "stream",
     "text": [
      "/tmp/ipykernel_18/3582629336.py:1: ParserWarning: Falling back to the 'python' engine because the 'c' engine does not support regex separators (separators > 1 char and different from '\\s+' are interpreted as regex); you can avoid this warning by specifying engine='python'.\n",
      "  movies = pd.read_csv('/kaggle/input/movie-dataset/movies.dat', delimiter='::')\n"
     ]
    }
   ],
   "source": [
    "movies = pd.read_csv('/kaggle/input/movie-dataset/movies.dat', delimiter='::')\n",
    "print(movies.head())"
   ]
  },
  {
   "cell_type": "code",
   "execution_count": 3,
   "id": "389d19a4",
   "metadata": {
    "execution": {
     "iopub.execute_input": "2024-02-16T11:19:11.387746Z",
     "iopub.status.busy": "2024-02-16T11:19:11.387018Z",
     "iopub.status.idle": "2024-02-16T11:19:11.396287Z",
     "shell.execute_reply": "2024-02-16T11:19:11.395082Z"
    },
    "papermill": {
     "duration": 0.015885,
     "end_time": "2024-02-16T11:19:11.398603",
     "exception": false,
     "start_time": "2024-02-16T11:19:11.382718",
     "status": "completed"
    },
    "tags": []
   },
   "outputs": [
    {
     "name": "stdout",
     "output_type": "stream",
     "text": [
      "    ID                                              Title                Genre\n",
      "0   10                La sortie des usines Lumière (1895)    Documentary|Short\n",
      "1   12                      The Arrival of a Train (1896)    Documentary|Short\n",
      "2   25  The Oxford and Cambridge University Boat Race ...                  NaN\n",
      "3   91                         Le manoir du diable (1896)         Short|Horror\n",
      "4  131                           Une nuit terrible (1896)  Short|Comedy|Horror\n"
     ]
    }
   ],
   "source": [
    "#define columns\n",
    "movies.columns =[\"ID\", \"Title\", \"Genre\"]\n",
    "print(movies.head())"
   ]
  },
  {
   "cell_type": "code",
   "execution_count": 4,
   "id": "b9bd515c",
   "metadata": {
    "execution": {
     "iopub.execute_input": "2024-02-16T11:19:11.406518Z",
     "iopub.status.busy": "2024-02-16T11:19:11.405804Z",
     "iopub.status.idle": "2024-02-16T11:19:17.952185Z",
     "shell.execute_reply": "2024-02-16T11:19:17.950517Z"
    },
    "papermill": {
     "duration": 6.553316,
     "end_time": "2024-02-16T11:19:17.954856",
     "exception": false,
     "start_time": "2024-02-16T11:19:11.401540",
     "status": "completed"
    },
    "tags": []
   },
   "outputs": [
    {
     "name": "stderr",
     "output_type": "stream",
     "text": [
      "/tmp/ipykernel_18/2484675338.py:2: ParserWarning: Falling back to the 'python' engine because the 'c' engine does not support regex separators (separators > 1 char and different from '\\s+' are interpreted as regex); you can avoid this warning by specifying engine='python'.\n",
      "  ratings = pd.read_csv('/kaggle/input/movie-dataset/ratings.dat', delimiter ='::')\n"
     ]
    },
    {
     "name": "stdout",
     "output_type": "stream",
     "text": [
      "   1  0114508  8  1381006850\n",
      "0  2   499549  9  1376753198\n",
      "1  2  1305591  8  1376742507\n",
      "2  2  1428538  1  1371307089\n",
      "3  3    75314  1  1595468524\n",
      "4  3   102926  9  1590148016\n"
     ]
    }
   ],
   "source": [
    "#importing the ratings\n",
    "ratings = pd.read_csv('/kaggle/input/movie-dataset/ratings.dat', delimiter ='::')\n",
    "print(ratings.head())"
   ]
  },
  {
   "cell_type": "code",
   "execution_count": 5,
   "id": "61d4feef",
   "metadata": {
    "execution": {
     "iopub.execute_input": "2024-02-16T11:19:17.962929Z",
     "iopub.status.busy": "2024-02-16T11:19:17.962445Z",
     "iopub.status.idle": "2024-02-16T11:19:17.971029Z",
     "shell.execute_reply": "2024-02-16T11:19:17.969781Z"
    },
    "papermill": {
     "duration": 0.015541,
     "end_time": "2024-02-16T11:19:17.973660",
     "exception": false,
     "start_time": "2024-02-16T11:19:17.958119",
     "status": "completed"
    },
    "tags": []
   },
   "outputs": [
    {
     "name": "stdout",
     "output_type": "stream",
     "text": [
      "   User       ID  Ratings   Timestamp\n",
      "0     2   499549        9  1376753198\n",
      "1     2  1305591        8  1376742507\n",
      "2     2  1428538        1  1371307089\n",
      "3     3    75314        1  1595468524\n",
      "4     3   102926        9  1590148016\n"
     ]
    }
   ],
   "source": [
    "#define columns\n",
    "ratings.columns=[\"User\", \"ID\", \"Ratings\", \"Timestamp\"]\n",
    "print(ratings.head())"
   ]
  }
 ],
 "metadata": {
  "kaggle": {
   "accelerator": "none",
   "dataSources": [
    {
     "datasetId": 4450211,
     "sourceId": 7636556,
     "sourceType": "datasetVersion"
    }
   ],
   "dockerImageVersionId": 30646,
   "isGpuEnabled": false,
   "isInternetEnabled": true,
   "language": "python",
   "sourceType": "notebook"
  },
  "kernelspec": {
   "display_name": "Python 3",
   "language": "python",
   "name": "python3"
  },
  "language_info": {
   "codemirror_mode": {
    "name": "ipython",
    "version": 3
   },
   "file_extension": ".py",
   "mimetype": "text/x-python",
   "name": "python",
   "nbconvert_exporter": "python",
   "pygments_lexer": "ipython3",
   "version": "3.10.13"
  },
  "papermill": {
   "default_parameters": {},
   "duration": 11.821294,
   "end_time": "2024-02-16T11:19:18.699780",
   "environment_variables": {},
   "exception": null,
   "input_path": "__notebook__.ipynb",
   "output_path": "__notebook__.ipynb",
   "parameters": {},
   "start_time": "2024-02-16T11:19:06.878486",
   "version": "2.5.0"
  }
 },
 "nbformat": 4,
 "nbformat_minor": 5
}
