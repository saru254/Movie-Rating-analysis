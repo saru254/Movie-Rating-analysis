{
 "cells": [
  {
   "cell_type": "markdown",
   "id": "1fe3dc76",
   "metadata": {
    "_cell_guid": "b1076dfc-b9ad-4769-8c92-a6c4dae69d19",
    "_uuid": "8f2839f25d086af736a60e9eeb907d3b93b6e0e5",
    "papermill": {
     "duration": 0.00306,
     "end_time": "2024-02-16T11:21:17.887684",
     "exception": false,
     "start_time": "2024-02-16T11:21:17.884624",
     "status": "completed"
    },
    "tags": []
   },
   "source": [
    "# Movie Rating Analysis using Python\n",
    "We all watch movies for entertainment, some of us never rate while some viewers always rate every movie they watch.\n",
    "This type of viewer helps in rating movies for people who go through the movie reviews before watching any movie to make sure they are about to watch a good movie."
   ]
  },
  {
   "cell_type": "code",
   "execution_count": 1,
   "id": "64c0f524",
   "metadata": {
    "execution": {
     "iopub.execute_input": "2024-02-16T11:21:17.895479Z",
     "iopub.status.busy": "2024-02-16T11:21:17.894883Z",
     "iopub.status.idle": "2024-02-16T11:21:18.775740Z",
     "shell.execute_reply": "2024-02-16T11:21:18.774652Z"
    },
    "papermill": {
     "duration": 0.888458,
     "end_time": "2024-02-16T11:21:18.778929",
     "exception": false,
     "start_time": "2024-02-16T11:21:17.890471",
     "status": "completed"
    },
    "tags": []
   },
   "outputs": [],
   "source": [
    "#importing libraries.\n",
    "import numpy as np\n",
    "import pandas as pd\n"
   ]
  },
  {
   "cell_type": "code",
   "execution_count": 2,
   "id": "381a4032",
   "metadata": {
    "execution": {
     "iopub.execute_input": "2024-02-16T11:21:18.785725Z",
     "iopub.status.busy": "2024-02-16T11:21:18.785255Z",
     "iopub.status.idle": "2024-02-16T11:21:18.939038Z",
     "shell.execute_reply": "2024-02-16T11:21:18.937939Z"
    },
    "papermill": {
     "duration": 0.159881,
     "end_time": "2024-02-16T11:21:18.941417",
     "exception": false,
     "start_time": "2024-02-16T11:21:18.781536",
     "status": "completed"
    },
    "tags": []
   },
   "outputs": [
    {
     "name": "stdout",
     "output_type": "stream",
     "text": [
      "   0000008      Edison Kinetoscopic Record of a Sneeze (1894)  \\\n",
      "0       10                La sortie des usines Lumière (1895)   \n",
      "1       12                      The Arrival of a Train (1896)   \n",
      "2       25  The Oxford and Cambridge University Boat Race ...   \n",
      "3       91                         Le manoir du diable (1896)   \n",
      "4      131                           Une nuit terrible (1896)   \n",
      "\n",
      "     Documentary|Short  \n",
      "0    Documentary|Short  \n",
      "1    Documentary|Short  \n",
      "2                  NaN  \n",
      "3         Short|Horror  \n",
      "4  Short|Comedy|Horror  \n"
     ]
    },
    {
     "name": "stderr",
     "output_type": "stream",
     "text": [
      "/tmp/ipykernel_18/3582629336.py:1: ParserWarning: Falling back to the 'python' engine because the 'c' engine does not support regex separators (separators > 1 char and different from '\\s+' are interpreted as regex); you can avoid this warning by specifying engine='python'.\n",
      "  movies = pd.read_csv('/kaggle/input/movie-dataset/movies.dat', delimiter='::')\n"
     ]
    }
   ],
   "source": [
    "movies = pd.read_csv('/kaggle/input/movie-dataset/movies.dat', delimiter='::')\n",
    "print(movies.head())"
   ]
  },
  {
   "cell_type": "code",
   "execution_count": 3,
   "id": "cbce35ff",
   "metadata": {
    "execution": {
     "iopub.execute_input": "2024-02-16T11:21:18.948331Z",
     "iopub.status.busy": "2024-02-16T11:21:18.948009Z",
     "iopub.status.idle": "2024-02-16T11:21:18.955063Z",
     "shell.execute_reply": "2024-02-16T11:21:18.954047Z"
    },
    "papermill": {
     "duration": 0.013715,
     "end_time": "2024-02-16T11:21:18.957907",
     "exception": false,
     "start_time": "2024-02-16T11:21:18.944192",
     "status": "completed"
    },
    "tags": []
   },
   "outputs": [
    {
     "name": "stdout",
     "output_type": "stream",
     "text": [
      "    ID                                              Title                Genre\n",
      "0   10                La sortie des usines Lumière (1895)    Documentary|Short\n",
      "1   12                      The Arrival of a Train (1896)    Documentary|Short\n",
      "2   25  The Oxford and Cambridge University Boat Race ...                  NaN\n",
      "3   91                         Le manoir du diable (1896)         Short|Horror\n",
      "4  131                           Une nuit terrible (1896)  Short|Comedy|Horror\n"
     ]
    }
   ],
   "source": [
    "#define columns\n",
    "movies.columns =[\"ID\", \"Title\", \"Genre\"]\n",
    "print(movies.head())"
   ]
  },
  {
   "cell_type": "code",
   "execution_count": 4,
   "id": "0166fd64",
   "metadata": {
    "execution": {
     "iopub.execute_input": "2024-02-16T11:21:18.965407Z",
     "iopub.status.busy": "2024-02-16T11:21:18.965053Z",
     "iopub.status.idle": "2024-02-16T11:21:24.385386Z",
     "shell.execute_reply": "2024-02-16T11:21:24.384627Z"
    },
    "papermill": {
     "duration": 5.426988,
     "end_time": "2024-02-16T11:21:24.387822",
     "exception": false,
     "start_time": "2024-02-16T11:21:18.960834",
     "status": "completed"
    },
    "tags": []
   },
   "outputs": [
    {
     "name": "stderr",
     "output_type": "stream",
     "text": [
      "/tmp/ipykernel_18/2484675338.py:2: ParserWarning: Falling back to the 'python' engine because the 'c' engine does not support regex separators (separators > 1 char and different from '\\s+' are interpreted as regex); you can avoid this warning by specifying engine='python'.\n",
      "  ratings = pd.read_csv('/kaggle/input/movie-dataset/ratings.dat', delimiter ='::')\n"
     ]
    },
    {
     "name": "stdout",
     "output_type": "stream",
     "text": [
      "   1  0114508  8  1381006850\n",
      "0  2   499549  9  1376753198\n",
      "1  2  1305591  8  1376742507\n",
      "2  2  1428538  1  1371307089\n",
      "3  3    75314  1  1595468524\n",
      "4  3   102926  9  1590148016\n"
     ]
    }
   ],
   "source": [
    "#importing the ratings\n",
    "ratings = pd.read_csv('/kaggle/input/movie-dataset/ratings.dat', delimiter ='::')\n",
    "print(ratings.head())"
   ]
  },
  {
   "cell_type": "code",
   "execution_count": 5,
   "id": "ca0c151f",
   "metadata": {
    "execution": {
     "iopub.execute_input": "2024-02-16T11:21:24.395763Z",
     "iopub.status.busy": "2024-02-16T11:21:24.394886Z",
     "iopub.status.idle": "2024-02-16T11:21:24.404024Z",
     "shell.execute_reply": "2024-02-16T11:21:24.403120Z"
    },
    "papermill": {
     "duration": 0.015383,
     "end_time": "2024-02-16T11:21:24.406170",
     "exception": false,
     "start_time": "2024-02-16T11:21:24.390787",
     "status": "completed"
    },
    "tags": []
   },
   "outputs": [
    {
     "name": "stdout",
     "output_type": "stream",
     "text": [
      "   User       ID  Ratings   Timestamp\n",
      "0     2   499549        9  1376753198\n",
      "1     2  1305591        8  1376742507\n",
      "2     2  1428538        1  1371307089\n",
      "3     3    75314        1  1595468524\n",
      "4     3   102926        9  1590148016\n"
     ]
    }
   ],
   "source": [
    "#define columns\n",
    "ratings.columns=[\"User\", \"ID\", \"Ratings\", \"Timestamp\"]\n",
    "print(ratings.head())"
   ]
  },
  {
   "cell_type": "code",
   "execution_count": 6,
   "id": "b391c7b7",
   "metadata": {
    "execution": {
     "iopub.execute_input": "2024-02-16T11:21:24.413305Z",
     "iopub.status.busy": "2024-02-16T11:21:24.413002Z",
     "iopub.status.idle": "2024-02-16T11:21:24.655181Z",
     "shell.execute_reply": "2024-02-16T11:21:24.653933Z"
    },
    "papermill": {
     "duration": 0.248359,
     "end_time": "2024-02-16T11:21:24.657538",
     "exception": false,
     "start_time": "2024-02-16T11:21:24.409179",
     "status": "completed"
    },
    "tags": []
   },
   "outputs": [
    {
     "name": "stdout",
     "output_type": "stream",
     "text": [
      "   ID                                              Title              Genre  \\\n",
      "0  10                La sortie des usines Lumière (1895)  Documentary|Short   \n",
      "1  12                      The Arrival of a Train (1896)  Documentary|Short   \n",
      "2  25  The Oxford and Cambridge University Boat Race ...                NaN   \n",
      "3  91                         Le manoir du diable (1896)       Short|Horror   \n",
      "4  91                         Le manoir du diable (1896)       Short|Horror   \n",
      "\n",
      "    User  Ratings   Timestamp  \n",
      "0  70577       10  1412878553  \n",
      "1  69535       10  1439248579  \n",
      "2  37628        8  1488189899  \n",
      "3   5814        6  1385233195  \n",
      "4  37239        5  1532347349  \n"
     ]
    }
   ],
   "source": [
    "#merging the two datasets\n",
    "data = pd.merge(movies, ratings, on=[\"ID\",\"ID\"])\n",
    "print(data.head())"
   ]
  }
 ],
 "metadata": {
  "kaggle": {
   "accelerator": "none",
   "dataSources": [
    {
     "datasetId": 4450211,
     "sourceId": 7636556,
     "sourceType": "datasetVersion"
    }
   ],
   "dockerImageVersionId": 30646,
   "isGpuEnabled": false,
   "isInternetEnabled": true,
   "language": "python",
   "sourceType": "notebook"
  },
  "kernelspec": {
   "display_name": "Python 3",
   "language": "python",
   "name": "python3"
  },
  "language_info": {
   "codemirror_mode": {
    "name": "ipython",
    "version": 3
   },
   "file_extension": ".py",
   "mimetype": "text/x-python",
   "name": "python",
   "nbconvert_exporter": "python",
   "pygments_lexer": "ipython3",
   "version": "3.10.13"
  },
  "papermill": {
   "default_parameters": {},
   "duration": 10.032394,
   "end_time": "2024-02-16T11:21:25.180650",
   "environment_variables": {},
   "exception": null,
   "input_path": "__notebook__.ipynb",
   "output_path": "__notebook__.ipynb",
   "parameters": {},
   "start_time": "2024-02-16T11:21:15.148256",
   "version": "2.5.0"
  }
 },
 "nbformat": 4,
 "nbformat_minor": 5
}
