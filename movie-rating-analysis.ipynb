{
 "cells": [
  {
   "cell_type": "markdown",
   "id": "f839c24a",
   "metadata": {
    "_cell_guid": "b1076dfc-b9ad-4769-8c92-a6c4dae69d19",
    "_uuid": "8f2839f25d086af736a60e9eeb907d3b93b6e0e5",
    "papermill": {
     "duration": 0.003359,
     "end_time": "2024-02-16T11:13:01.561088",
     "exception": false,
     "start_time": "2024-02-16T11:13:01.557729",
     "status": "completed"
    },
    "tags": []
   },
   "source": [
    "# Movie Rating Analysis using Python\n",
    "We all watch movies for entertainment, some of us never rate while some viewers always rate every movie they watch.\n",
    "This type of viewer helps in rating movies for people who go through the movie reviews before watching any movie to make sure they are about to watch a good movie."
   ]
  },
  {
   "cell_type": "code",
   "execution_count": 1,
   "id": "0ff60b0b",
   "metadata": {
    "execution": {
     "iopub.execute_input": "2024-02-16T11:13:01.568147Z",
     "iopub.status.busy": "2024-02-16T11:13:01.567665Z",
     "iopub.status.idle": "2024-02-16T11:13:02.685491Z",
     "shell.execute_reply": "2024-02-16T11:13:02.683903Z"
    },
    "papermill": {
     "duration": 1.125099,
     "end_time": "2024-02-16T11:13:02.688611",
     "exception": false,
     "start_time": "2024-02-16T11:13:01.563512",
     "status": "completed"
    },
    "tags": []
   },
   "outputs": [],
   "source": [
    "#importing libraries.\n",
    "import numpy as np\n",
    "import pandas as pd\n"
   ]
  },
  {
   "cell_type": "code",
   "execution_count": 2,
   "id": "d6fc3246",
   "metadata": {
    "execution": {
     "iopub.execute_input": "2024-02-16T11:13:02.695768Z",
     "iopub.status.busy": "2024-02-16T11:13:02.695173Z",
     "iopub.status.idle": "2024-02-16T11:13:02.934951Z",
     "shell.execute_reply": "2024-02-16T11:13:02.933218Z"
    },
    "papermill": {
     "duration": 0.247067,
     "end_time": "2024-02-16T11:13:02.938184",
     "exception": false,
     "start_time": "2024-02-16T11:13:02.691117",
     "status": "completed"
    },
    "tags": []
   },
   "outputs": [
    {
     "name": "stderr",
     "output_type": "stream",
     "text": [
      "/tmp/ipykernel_18/3582629336.py:1: ParserWarning: Falling back to the 'python' engine because the 'c' engine does not support regex separators (separators > 1 char and different from '\\s+' are interpreted as regex); you can avoid this warning by specifying engine='python'.\n",
      "  movies = pd.read_csv('/kaggle/input/movie-dataset/movies.dat', delimiter='::')\n"
     ]
    },
    {
     "name": "stdout",
     "output_type": "stream",
     "text": [
      "   0000008      Edison Kinetoscopic Record of a Sneeze (1894)  \\\n",
      "0       10                La sortie des usines Lumière (1895)   \n",
      "1       12                      The Arrival of a Train (1896)   \n",
      "2       25  The Oxford and Cambridge University Boat Race ...   \n",
      "3       91                         Le manoir du diable (1896)   \n",
      "4      131                           Une nuit terrible (1896)   \n",
      "\n",
      "     Documentary|Short  \n",
      "0    Documentary|Short  \n",
      "1    Documentary|Short  \n",
      "2                  NaN  \n",
      "3         Short|Horror  \n",
      "4  Short|Comedy|Horror  \n"
     ]
    }
   ],
   "source": [
    "movies = pd.read_csv('/kaggle/input/movie-dataset/movies.dat', delimiter='::')\n",
    "print(movies.head())"
   ]
  }
 ],
 "metadata": {
  "kaggle": {
   "accelerator": "none",
   "dataSources": [
    {
     "datasetId": 4450211,
     "sourceId": 7636556,
     "sourceType": "datasetVersion"
    }
   ],
   "dockerImageVersionId": 30646,
   "isGpuEnabled": false,
   "isInternetEnabled": true,
   "language": "python",
   "sourceType": "notebook"
  },
  "kernelspec": {
   "display_name": "Python 3",
   "language": "python",
   "name": "python3"
  },
  "language_info": {
   "codemirror_mode": {
    "name": "ipython",
    "version": 3
   },
   "file_extension": ".py",
   "mimetype": "text/x-python",
   "name": "python",
   "nbconvert_exporter": "python",
   "pygments_lexer": "ipython3",
   "version": "3.10.13"
  },
  "papermill": {
   "default_parameters": {},
   "duration": 5.528496,
   "end_time": "2024-02-16T11:13:03.664698",
   "environment_variables": {},
   "exception": null,
   "input_path": "__notebook__.ipynb",
   "output_path": "__notebook__.ipynb",
   "parameters": {},
   "start_time": "2024-02-16T11:12:58.136202",
   "version": "2.5.0"
  }
 },
 "nbformat": 4,
 "nbformat_minor": 5
}
